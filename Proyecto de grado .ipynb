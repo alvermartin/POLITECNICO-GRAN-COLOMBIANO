{
  "nbformat": 4,
  "nbformat_minor": 0,
  "metadata": {
    "colab": {
      "name": "1_intro_tarea.ipynb",
      "provenance": []
    },
    "kernelspec": {
      "display_name": "Python 3",
      "language": "python",
      "name": "python3"
    },
    "language_info": {
      "codemirror_mode": {
        "name": "ipython",
        "version": 3
      },
      "file_extension": ".py",
      "mimetype": "text/x-python",
      "name": "python",
      "nbconvert_exporter": "python",
      "pygments_lexer": "ipython3",
      "version": "3.7.9"
    }
  },
  "cells": [
    {
      "cell_type": "code",
      "source": [
        "pip install nltk\n"
      ],
      "metadata": {
        "id": "PG9JntMUP3Nb"
      },
      "execution_count": null,
      "outputs": []
    },
    {
      "cell_type": "code",
      "source": [
        "import nltk\n"
      ],
      "metadata": {
        "id": "coiLmcx1P49L"
      },
      "execution_count": 33,
      "outputs": []
    },
    {
      "cell_type": "code",
      "source": [
        "nltk.download('all')"
      ],
      "metadata": {
        "id": "1yVGaN2KQHwk"
      },
      "execution_count": null,
      "outputs": []
    },
    {
      "cell_type": "code",
      "source": [
        "pip install python-docx"
      ],
      "metadata": {
        "colab": {
          "base_uri": "https://localhost:8080/"
        },
        "id": "9LRrt3R2QSMc",
        "outputId": "d6f2f88d-65e7-4fac-8130-9d9f1540f3c4"
      },
      "execution_count": 35,
      "outputs": [
        {
          "output_type": "stream",
          "name": "stdout",
          "text": [
            "Looking in indexes: https://pypi.org/simple, https://us-python.pkg.dev/colab-wheels/public/simple/\n",
            "Requirement already satisfied: python-docx in /usr/local/lib/python3.9/dist-packages (0.8.11)\n",
            "Requirement already satisfied: lxml>=2.3.2 in /usr/local/lib/python3.9/dist-packages (from python-docx) (4.9.2)\n"
          ]
        }
      ]
    },
    {
      "cell_type": "code",
      "source": [
        "import pandas as pd\n",
        "import docx\n",
        "from docx import Document\n",
        "from google.colab import files\n",
        "\n",
        "\n",
        "archi1=open(\"/content/texto.txt\",\"w\")  # Abrir archivo de texto donde se guarda el contenido del documento en modo de escritura\n",
        "uploaded = files.upload() \n",
        "\n",
        "# uploaded el sistema lo define como tipo diccionario (type (uploaded))\n",
        "\n",
        "claves = uploaded.keys() #extraemos la clave del diccionario la cual correspondera al nombre\n",
        "\n",
        "nombre=list(claves) # La clave de tipo diccionario se convierte en tipo lista\n",
        "nombre=\" \".join(nombre) # La lista se convierte a texto\n",
        "\n",
        "# creamos la ruta de acceso a la carpeta donde se guardo el archivo\n",
        "\n",
        "ruta = \"/content/\"  + nombre \n",
        "\n",
        "# Se usa la biblioteca docx de python para extraer el texto del documento \\n\n",
        "\n",
        "doc = docx.Document(ruta)\n",
        "\n",
        "#Se recorre el archivo extraido y se guarda en un txt almaceado en la carpeta local de Colab\n",
        "for i in doc.paragraphs:\n",
        "            print(i.text) \n",
        "            archi1.write(i.text)\n",
        "            archi1.write(\" \")\n",
        "archi1.close()\n",
        "\n",
        "\n"
      ],
      "metadata": {
        "id": "mOEoQgniQaOX"
      },
      "execution_count": null,
      "outputs": []
    },
    {
      "cell_type": "code",
      "source": [
        "# Importamos  las librerias a usar nativas y paquetes  de NLTK instalados\\n\",\n",
        "import pandas as pd\n",
        "import nltk\n",
        "from nltk.probability import FreqDist\n",
        "from nltk import ne_chunk\n",
        "from nltk.tokenize import word_tokenize\n",
        "import re\n",
        "\n",
        "text = open(\"/content/texto.txt\",\"r\") #se abre archivo en modo lectura\n",
        "contenido=text.read() # guardamos el contenido \n",
        "print(\"Documento extraido: =>\",contenido)\n",
        "\n",
        "#Pasamos nuestro paramentro texto a la funcion de tokenizar en espera de separadas oraciones\n",
        "token = word_tokenize(contenido)\n",
        "print(\"Documento en tokens: => \",token)\n",
        "text.close()\n"
      ],
      "metadata": {
        "id": "IV0PwjAgUU4O"
      },
      "execution_count": null,
      "outputs": []
    },
    {
      "cell_type": "code",
      "source": [
        "# Importamos  las librerias a usar nativas y paquetes  de NLTK instalados\n",
        "from nltk.sem.logic import Tokens\n",
        "import pandas as pd\n",
        "import docx\n",
        "from docx import Document\n",
        "from google.colab import files\n",
        "import nltk\n",
        "from nltk.probability import FreqDist\n",
        "from nltk import ne_chunk\n",
        "from nltk.tokenize import word_tokenize\n",
        "from nltk.corpus import stopwords\n",
        "\n",
        "\n",
        "text = open(\"/content/texto.txt\",\"r\") #se abre archivo en modo lectura\n",
        "contenido=text.read() # guardamos el contenido \n",
        "print(\"Documento extraido: =>\",contenido)\n",
        "\n",
        "\n",
        "#Pasamos nuestro paramentro texto a la funcion de tokenizar en espera de separadas oraciones\n",
        "token = word_tokenize(contenido)\n",
        "print(\"Documento en tokens: => \",token)\n",
        "print(\"\\n\")\n",
        "text.close()\n",
        "\n",
        "# eliminamos las palabras reservadas :  son aquellas que no contribuyen al significado más profundo de la frase\n",
        "stop_words = stopwords.words('spanish') # selecionamos las coleccionadas suministradas para español por Nltk \n",
        "Tokens = [w for w in token if not w in stop_words]\n",
        "\n",
        "# realizamos el etiqiquetado del texto\n",
        "tags = nltk.pos_tag(Tokens)\n",
        "chunk = ne_chunk(tags)\n",
        "\n",
        "# creamos un filto de gramatical para que muestre  nombres propios y numeros\n",
        "gramatica = \"FILTRO: {<DT>?<JJ>*<NN>*<FW>*}\" # nombres propios y numeros\n",
        "cp= nltk.RegexpParser(gramatica) # realizamos la asignacion del filtro \n",
        "\n",
        "resultado = cp.parse(chunk)    #procesamos el texto con el filtro\n",
        "print(\"Texto con filtro y etiquetas: ====> \", resultado)\n",
        "print(\"\\n\")\n",
        "\n",
        "#Extraeremos aquellas palabras donde su etiqueta pertenezca al conjunto ['CD'=numeros , 'NNP'=nombres propios] (puede obtenerse el listado de tags que se aplican por defecto en http://www.ling.upenn.edu/courses/Fall_2003/ling001/penn_treebank_pos.html\\n\",\n",
        "sustantivos = [(word, tag) for word, tag in tags if tag in ['CD', 'NNP']] \n",
        "print(\"Texto que corresponde a personas y numeros ==> \",sustantivos)\n",
        "\n",
        "# 1.Confidencial: acceso restringido a la alta dirección.\n",
        "# 2.Restringido: directores de área y empleados clave tienen acceso.\n",
        "# 3.Interno: relativo a la información accesible solo los miembros de la organización, pero en cualquier nivel.\n",
        "# 4.Público: todas las personas, dentro y fuera de la organización, tienen acceso.\n",
        "\n",
        "cantidad =len(sustantivos)       \n",
        "\n",
        "print(cantidad)\n",
        "\n",
        "    \n",
        "    \n"
      ],
      "metadata": {
        "id": "f6jNz8_lW9m-"
      },
      "execution_count": null,
      "outputs": []
    },
    {
      "cell_type": "markdown",
      "source": [
        "![image.png](data:image/png;base64,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)"
      ],
      "metadata": {
        "id": "6v82WqIe8isI"
      }
    },
    {
      "cell_type": "code",
      "source": [
        "pip install PyPDF4 # fusionar pdf "
      ],
      "metadata": {
        "id": "42M8PYzKxCXN"
      },
      "execution_count": null,
      "outputs": []
    },
    {
      "cell_type": "code",
      "source": [
        "pip install docx2pdf"
      ],
      "metadata": {
        "id": "06B7fuVNC89m"
      },
      "execution_count": null,
      "outputs": []
    },
    {
      "cell_type": "code",
      "source": [
        "# Importamos  las librerias a usar nativas y paquetes  de NLTK\n",
        "\n",
        "from PyPDF4 import PdfFileWriter, PdfFileReader \n",
        "import PyPDF4 \n",
        "from nltk.sem.logic import Tokens\n",
        "import pandas as pd\n",
        "import nltk\n",
        "from google.colab import files\n",
        "from nltk.probability import FreqDist\n",
        "from nltk import ne_chunk\n",
        "from nltk.tokenize import word_tokenize\n",
        "from nltk.corpus import stopwords\n",
        "#import aspose.words as aw\n",
        "from urllib.request import urlretrieve\n",
        "\n",
        "\n",
        "\n",
        "archi1=open(\"/content/texto.txt\",\"w\")  # Abrir archivo de texto donde se guarda el contenido del documento en modo de escritura\n",
        "uploaded = files.upload() \n",
        "\n",
        "# uploaded el sistema lo define como tipo diccionario (type (uploaded))\n",
        "\n",
        "claves = uploaded.keys() #extraemos la clave del diccionario la cual correspondera al nombre\n",
        "\n",
        "nombre=list(claves) # La clave de tipo diccionario se convierte en tipo lista\n",
        "nombre=\" \".join(nombre) # La lista se convierte a texto\n",
        "\n",
        "# creamos la ruta de acceso a la carpeta donde se guardo el archivo\n",
        "\n",
        "ruta = \"/content/\"  + nombre \n",
        "salidapdf=\"/content/\"  + \"txt.pdf\"\n",
        "# Se usa la biblioteca docx de python para extraer el texto del documento \\n\n",
        "\n",
        "doc = docx.Document(ruta)\n",
        "\n",
        "\n",
        "#Se recorre el archivo extraido y se guarda en un txt almaceado en la carpeta local de Colab\n",
        "for i in doc.paragraphs:\n",
        "            print(i.text) \n",
        "            archi1.write(i.text)\n",
        "            archi1.write(\" \")\n",
        "archi1.close()\n",
        "\n",
        "# convertimos el archivo en pdf\n",
        "inputFile = ruta\n",
        "outputFile = salidapdf\n",
        "\n",
        "# lectura de ruta de\n",
        "#doc = aw.Document(ruta)\n",
        "# Guardar PDF\n",
        "#doc.save(salidapdf)\n",
        "\n",
        "text = open(\"/content/texto.txt\",\"r\") #se abre archivo en modo lectura\n",
        "contenido=text.read() # guardamos el contenido \n",
        "print(\"Documento extraido: =>\",contenido)\n",
        "\n",
        "#Pasamos nuestro paramentro texto a la funcion de tokenizar en espera de separadas oraciones\n",
        "token = word_tokenize(contenido)\n",
        "print(\"Documento en tokens: => \",token)\n",
        "print(\"\\n\")\n",
        "text.close()\n",
        "\n",
        "\n",
        "# eliminamos las palabras reservadas :  son aquellas que no contribuyen al significado más profundo de la frase\n",
        "stop_words = stopwords.words('spanish') # selecionamos las coleccionadas suministradas para español por Nltk \n",
        "Tokens = [w for w in token if not w in stop_words]\n",
        "\n",
        "# realizamos el etiqiquetado del texto\n",
        "tags = nltk.pos_tag(Tokens)\n",
        "chunk = ne_chunk(tags)\n",
        "\n",
        "# creamos un filto de gramatical para que muestre  nombres propios y numeros\n",
        "gramatica = \"FILTRO: {<DT>?<JJ>*<NN>*<FW>*}\" # nombres propios y numeros\n",
        "cp= nltk.RegexpParser(gramatica) # realizamos la asignacion del filtro \n",
        "\n",
        "resultado = cp.parse(chunk)    #procesamos el texto con el filtro\n",
        "print(\"Texto con filtro y etiquetas: ====> \", resultado)\n",
        "print(\"\\n\")\n",
        "\n",
        "#Extraeremos aquellas palabras donde su etiqueta pertenezca al conjunto ['CD'=numeros , 'NNP'=nombres propios] (puede obtenerse el listado de tags que se aplican por defecto en http://www.ling.upenn.edu/courses/Fall_2003/ling001/penn_treebank_pos.html\\n\",\n",
        "sustantivos = [(word, tag) for word, tag in tags if tag in ['CD', 'NNP']] \n",
        "print(\"Texto que corresponde a personas y numeros ==> \",sustantivos)\n",
        "\n",
        "# 1.Confidencial: acceso restringido a la alta dirección.\n",
        "# 2.Restringido: directores de área y empleados clave tienen acceso.\n",
        "# 3.Interno: relativo a la información accesible solo los miembros de la organización, pero en cualquier nivel.\n",
        "# 4.Público: todas las personas, dentro y fuera de la organización, tienen acceso.\n",
        "\n",
        "cantidad =len(sustantivos)       \n",
        "\n",
        "if cantidad <=10:\n",
        "      # publico tipo=\"4\" \n",
        "      p = doc.add_paragraph(\" \")  \n",
        "      p.add_run('<<<<<<<< DOCUMENTO PUBLICO>>>>>> \\n comprobado por ETSE').bold = True\n",
        "elif cantidad >=10 and cantidad < 15 :\n",
        "     # Interno tipo=\"3\" \n",
        "      p = doc.add_paragraph(\"\")  \n",
        "      p.add_run('<<<<<<<< DOCUMENTO INTERNO>>>>>> \\n comprobado por ETSE').bold = True\n",
        "elif cantidad >= 15 and cantidad < 20:\n",
        "      # restringido tipo=\"2\" \n",
        "      p = doc.add_paragraph(\"\") \n",
        "      p.add_run('<<<<<<<< DOCUMENTO RESTRINGIDO>>>>>> \\n comprobado por ETSE').bold = True\n",
        "else:\n",
        "      # Confidencial tipo=\"1\" \n",
        "      p = doc.add_paragraph(\"\")  \n",
        "      p.add_run('<<<<<<<< DOCUMENTO CONFIDENCIAL>>>>>> \\n comprobado por ETSE').bold = True\n",
        "\n",
        "p.alignment=1\n",
        "\n",
        "doc.save(\"new.docx\")\n",
        "\n",
        "\n"
      ],
      "metadata": {
        "id": "3NwhbAe9xrOZ"
      },
      "execution_count": null,
      "outputs": []
    },
    {
      "cell_type": "code",
      "source": [
        "pip install aspose-words"
      ],
      "metadata": {
        "id": "G6PKWMLTStYr"
      },
      "execution_count": null,
      "outputs": []
    },
    {
      "cell_type": "code",
      "source": [
        "import aspose.words as aw\n",
        "from google.colab import files\n",
        "\n",
        "doc = aw.Document(\"/content/new.docx\")\n",
        "doc.save(\"/content/Output.pdf\")\n",
        "\n",
        "files.download(\"/content/Output.pdf\")"
      ],
      "metadata": {
        "id": "IA7HVvugV1JZ"
      },
      "execution_count": null,
      "outputs": []
    }
  ]
}